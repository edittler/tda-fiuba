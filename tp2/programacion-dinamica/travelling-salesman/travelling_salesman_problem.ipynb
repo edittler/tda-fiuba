{
 "cells": [
  {
   "cell_type": "markdown",
   "metadata": {
    "collapsed": true
   },
   "source": [
    "# Problema del viajante de comercio"
   ]
  },
  {
   "cell_type": "markdown",
   "metadata": {},
   "source": [
    "## Análisis de tiempos"
   ]
  },
  {
   "cell_type": "code",
   "execution_count": 1,
   "metadata": {
    "collapsed": false
   },
   "outputs": [],
   "source": [
    "%matplotlib inline\n",
    "import timeit\n",
    "import random\n",
    "import matplotlib.pyplot as plt\n",
    "import numpy as np\n",
    "from math import floor\n",
    "\n",
    "from functools import partial\n",
    "\n",
    "from tsp_data import tsp_data\n",
    "from tsp_parser import tsp_parser\n",
    "from travelling_salesman_path import travelling_salesman_path"
   ]
  },
  {
   "cell_type": "code",
   "execution_count": 29,
   "metadata": {
    "collapsed": false
   },
   "outputs": [],
   "source": [
    "def plot_algorithms(problems, title='', savefig=False, filename_keyword=''):\n",
    "\n",
    "    x, td_y, bu_y = [], [], []\n",
    "    td_times, bu_times = [], []\n",
    "    edge_weight_format = ''\n",
    "\n",
    "    for problem in problems:\n",
    "\n",
    "        print(str(problem.dimension()))\n",
    "        #td_timer = timeit.Timer(partial(knapsack_top_down, problem.values, problem.weights, problem.knapsack_weight))\n",
    "        #td_times.append(td_timer.timeit(1))\n",
    "        bu_timer = timeit.Timer(partial(travelling_salesman_path, problem))\n",
    "        bu_times.append(bu_timer.timeit(1))\n",
    "\n",
    "        x.append(problem.dimension())\n",
    "        edge_weight_format = problem.edge_weight_format\n",
    "\n",
    "    #plt.plot(x, td_y, label = 'Top-Down Solution')\n",
    "    plt.plot(x, bu_times, label = '...')\n",
    "\n",
    "    plt.title(title)\n",
    "    plt.ylabel('Tiempo de ejecución [segundos]')\n",
    "    plt.xlabel('Cantidad de ciudades')\n",
    "    #plt.legend(loc='upper left', prop={'size': 10})\n",
    "    if savefig:\n",
    "        # el nombre del archivo es: n_keyWord.png\n",
    "        filename = '_'.join([\"n\"])\n",
    "        plt.savefig('images/' + filename + filename_keyword +'.png', bbox_inches='tight')\n",
    "    plt.show()"
   ]
  },
  {
   "cell_type": "code",
   "execution_count": 31,
   "metadata": {
    "collapsed": false
   },
   "outputs": [
    {
     "name": "stdout",
     "output_type": "stream",
     "text": [
      "4\n",
      "6\n",
      "8\n",
      "10\n",
      "11\n",
      "12\n",
      "13\n",
      "14\n",
      "15\n",
      "16\n",
      "17\n",
      "18\n"
     ]
    },
    {
     "data": {
      "image/png": "[encoded data removed]",
      "text/plain": [
       "<matplotlib.figure.Figure at 0x7f75db8d03c8>"
      ]
     },
     "metadata": {},
     "output_type": "display_data"
    }
   ],
   "source": [
    "problems = []\n",
    "problems.append(tsp_parser.parse_tsp_file(\"test_files/ex04.tsp\"))\n",
    "problems.append(tsp_parser.parse_tsp_file(\"test_files/ex06.tsp\"))\n",
    "problems.append(tsp_parser.parse_tsp_file(\"test_files/ex08.tsp\"))\n",
    "problems.append(tsp_parser.parse_tsp_file(\"test_files/ex10.tsp\"))\n",
    "problems.append(tsp_parser.parse_tsp_file(\"test_files/ex11.tsp\"))\n",
    "problems.append(tsp_parser.parse_tsp_file(\"test_files/ex12.tsp\"))\n",
    "problems.append(tsp_parser.parse_tsp_file(\"test_files/ex13.tsp\"))\n",
    "problems.append(tsp_parser.parse_tsp_file(\"test_files/ex14.tsp\"))\n",
    "problems.append(tsp_parser.parse_tsp_file(\"test_files/p01.tsp\"))\n",
    "problems.append(tsp_parser.parse_tsp_file(\"test_files/ex16.tsp\"))\n",
    "problems.append(tsp_parser.parse_tsp_file(\"test_files/gr17.tsp\"))\n",
    "problems.append(tsp_parser.parse_tsp_file(\"test_files/ex18.tsp\"))\n",
    "#problems.append(tsp_parser.parse_tsp_file(\"test_files/gr21.tsp\"))\n",
    "title = 'Consumo temporal'\n",
    "plot_algorithms(problems, title = title, savefig = True, filename_keyword='_temp')"
   ]
  },
  {
   "cell_type": "code",
   "execution_count": 20,
   "metadata": {
    "collapsed": false
   },
   "outputs": [
    {
     "ename": "NameError",
     "evalue": "name 'Parser' is not defined",
     "output_type": "error",
     "traceback": [
      "\u001b[0;31m---------------------------------------------------------------------------\u001b[0m",
      "\u001b[0;31mNameError\u001b[0m                                 Traceback (most recent call last)",
      "\u001b[0;32m<ipython-input-20-41a1cee46ea0>\u001b[0m in \u001b[0;36m<module>\u001b[0;34m()\u001b[0m\n\u001b[0;32m----> 1\u001b[0;31m \u001b[0mproblems\u001b[0m \u001b[0;34m=\u001b[0m \u001b[0mParser\u001b[0m\u001b[0;34m.\u001b[0m\u001b[0mparse_file\u001b[0m\u001b[0;34m(\u001b[0m\u001b[0;34m'test_files/hard_coef/knapPI_13_100_1000.csv'\u001b[0m\u001b[0;34m)\u001b[0m\u001b[0;34m\u001b[0m\u001b[0m\n\u001b[0m\u001b[1;32m      2\u001b[0m \u001b[0mlist\u001b[0m\u001b[0;34m.\u001b[0m\u001b[0msort\u001b[0m\u001b[0;34m(\u001b[0m\u001b[0mproblems\u001b[0m\u001b[0;34m)\u001b[0m\u001b[0;34m\u001b[0m\u001b[0m\n\u001b[1;32m      3\u001b[0m \u001b[0mtitle\u001b[0m \u001b[0;34m=\u001b[0m \u001b[0;34m'Caso Dificil [strong_span(2,10)]: N = 100'\u001b[0m\u001b[0;34m\u001b[0m\u001b[0m\n\u001b[1;32m      4\u001b[0m \u001b[0mplot_algorithms\u001b[0m\u001b[0;34m(\u001b[0m\u001b[0mproblems\u001b[0m\u001b[0;34m,\u001b[0m \u001b[0mtitle\u001b[0m \u001b[0;34m=\u001b[0m \u001b[0mtitle\u001b[0m\u001b[0;34m,\u001b[0m \u001b[0msavefig\u001b[0m \u001b[0;34m=\u001b[0m \u001b[0;32mTrue\u001b[0m\u001b[0;34m,\u001b[0m \u001b[0mfilename_keyword\u001b[0m\u001b[0;34m=\u001b[0m\u001b[0;34m'sspan'\u001b[0m\u001b[0;34m)\u001b[0m\u001b[0;34m\u001b[0m\u001b[0m\n",
      "\u001b[0;31mNameError\u001b[0m: name 'Parser' is not defined"
     ]
    }
   ],
   "source": [
    "problems = Parser.parse_file('test_files/hard_coef/knapPI_13_100_1000.csv')\n",
    "list.sort(problems)\n",
    "title = 'Caso Dificil [strong_span(2,10)]: N = 100'\n",
    "plot_algorithms(problems, title = title, savefig = True, filename_keyword='sspan')"
   ]
  },
  {
   "cell_type": "code",
   "execution_count": null,
   "metadata": {
    "collapsed": true
   },
   "outputs": [],
   "source": []
  }
 ],
 "metadata": {
  "kernelspec": {
   "display_name": "Python 3",
   "language": "python",
   "name": "python3"
  },
  "language_info": {
   "codemirror_mode": {
    "name": "ipython",
    "version": 3
   },
   "file_extension": ".py",
   "mimetype": "text/x-python",
   "name": "python",
   "nbconvert_exporter": "python",
   "pygments_lexer": "ipython3",
   "version": "3.5.2"
  }
 },
 "nbformat": 4,
 "nbformat_minor": 1
}
