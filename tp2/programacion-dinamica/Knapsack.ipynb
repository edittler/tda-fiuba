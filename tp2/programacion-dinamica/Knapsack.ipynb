{
 "cells": [
  {
   "cell_type": "markdown",
   "metadata": {
    "collapsed": true
   },
   "source": [
    "# Problema de la mochila"
   ]
  },
  {
   "cell_type": "markdown",
   "metadata": {},
   "source": [
    "## Análisis de tiempos"
   ]
  },
  {
   "cell_type": "code",
   "execution_count": null,
   "metadata": {
    "collapsed": true
   },
   "outputs": [],
   "source": [
    "%matplotlib inline\n",
    "import timeit\n",
    "import random\n",
    "import matplotlib.pyplot as plt\n",
    "import numpy as np\n",
    "from math import floor\n",
    "\n",
    "from functools import partial\n",
    "\n",
    "from knapsack_file_parser import Parser\n",
    "from knapsack import knapsack_bottom_up, knapsack_top_down"
   ]
  },
  {
   "cell_type": "code",
   "execution_count": null,
   "metadata": {
    "collapsed": true
   },
   "outputs": [],
   "source": [
    "def plot_algorithms(modules, k_func=min_k, number=3, maxiter=10, \n",
    "                    items_getter=random_items, title='', savefig=False):\n",
    "    for module in modules:\n",
    "        x, y = [], []\n",
    "        for exp in range(2, maxiter):\n",
    "            times = []\n",
    "            for i in range(number):\n",
    "                items = items_getter(exp)\n",
    "                algorithm = module.__dict__['k_min']\n",
    "                timer = timeit.Timer(partial(algorithm, items, k_func(2**exp)))\n",
    "                times.append(timer.timeit(1))\n",
    "            t = np.mean(times)\n",
    "            y.append(t)\n",
    "            x.append(2**exp)\n",
    "        plt.plot(x, y, label=module.__name__)\n",
    "\n",
    "    plt.title(title)\n",
    "    plt.ylabel('Tiempo de ejecución')\n",
    "    plt.xlabel('Cantidad de elementos en el conjunto')\n",
    "    plt.legend(loc='upper left', prop={'size': 10})\n",
    "    if savefig:\n",
    "        # el nombre del archivo es: como son los elementos, iteraciones, k, cantidad de algoritmos\n",
    "        filename = '_'.join([items_getter.__name__, '2', str(maxiter), k_func.__name__, str(len(modules)), 'algs'])\n",
    "        plt.savefig('images/' + filename + '.png', bbox_inches='tight')\n",
    "    plt.show()"
   ]
  }
 ],
 "metadata": {
  "kernelspec": {
   "display_name": "Python 3",
   "language": "python",
   "name": "python3"
  },
  "language_info": {
   "codemirror_mode": {
    "name": "ipython",
    "version": 3
   },
   "file_extension": ".py",
   "mimetype": "text/x-python",
   "name": "python",
   "nbconvert_exporter": "python",
   "pygments_lexer": "ipython3",
   "version": "3.5.2"
  }
 },
 "nbformat": 4,
 "nbformat_minor": 1
}
