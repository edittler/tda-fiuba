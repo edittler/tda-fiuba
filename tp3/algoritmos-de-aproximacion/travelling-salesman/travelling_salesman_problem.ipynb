{
 "cells": [
  {
   "cell_type": "markdown",
   "metadata": {
    "collapsed": true
   },
   "source": [
    "# Problema del viajante de comercio"
   ]
  },
  {
   "cell_type": "markdown",
   "metadata": {},
   "source": [
    "## Análisis de tiempos"
   ]
  },
  {
   "cell_type": "code",
   "execution_count": 1,
   "metadata": {
    "collapsed": false
   },
   "outputs": [],
   "source": [
    "%matplotlib inline\n",
    "import timeit\n",
    "import matplotlib.pyplot as plt\n",
    "\n",
    "from functools import partial\n",
    "\n",
    "from tsp_data import tsp_data\n",
    "from tsp_parser import tsp_parser\n",
    "from travelling_salesman_path import travelling_salesman_path, travelling_salesman_aprox_path"
   ]
  },
  {
   "cell_type": "code",
   "execution_count": 2,
   "metadata": {
    "collapsed": true
   },
   "outputs": [],
   "source": [
    "base_path = \"test_files/\"\n",
    "test_files = [\"ex04.tsp\", \"ex06.tsp\", \"ex08.tsp\", \"ex10.tsp\", \"ex11.tsp\", \"ex12.tsp\", \"ex13.tsp\", \"ex14.tsp\", \"p01.tsp\",\n",
    "              \"ex16.tsp\", \"gr17.tsp\", \"ex18.tsp\", \"ex19.tsp\", \"ex20.tsp\", \"gr21.tsp\"]"
   ]
  },
  {
   "cell_type": "code",
   "execution_count": 3,
   "metadata": {
    "collapsed": false
   },
   "outputs": [],
   "source": [
    "def plot_times(problems, savefig=False):\n",
    "\n",
    "    x, times, times_aprox = [], [], []\n",
    "\n",
    "    costs = {}\n",
    "\n",
    "    def run_tsp_problem(problem):\n",
    "        cost, path, space = travelling_salesman_path(problem)\n",
    "        if problem.dimension() not in costs:\n",
    "            costs[problem.dimension()] = {}\n",
    "        costs[problem.dimension()][\"tsp\"] = cost\n",
    "        \n",
    "    def run_tsap_problem(problem):\n",
    "        cost, path = travelling_salesman_aprox_path(problem.graph(True))\n",
    "        if problem.dimension() not in costs:\n",
    "            costs[problem.dimension()] = {}\n",
    "        costs[problem.dimension()][\"tsap\"] = cost\n",
    "\n",
    "    image_base_path = 'images/'\n",
    "    filename = 'tsp'\n",
    "\n",
    "    for problem in problems:\n",
    "        print(\"cities: \" + str(problem.dimension()))\n",
    "\n",
    "        timer_aprox = timeit.Timer(partial(run_tsap_problem, problem))\n",
    "        timer = timeit.Timer(partial(run_tsp_problem, problem))\n",
    "        \n",
    "        ran_times_aprox = timer_aprox.timeit(1)\n",
    "        ran_times = timer.timeit(1)\n",
    "        \n",
    "        if problem.dimension() <= 10:\n",
    "            x.append(problem.dimension())\n",
    "            times_aprox.append(ran_times_aprox)\n",
    "            times.append(ran_times)\n",
    "\n",
    "    plt.plot(x, times, label = 'Bellman–Held–Karp')\n",
    "    plt.plot(x, times_aprox, label = 'Aproximación')\n",
    "\n",
    "    #plt.title('Tiempo de ejecución')\n",
    "    plt.ylabel('Tiempo de ejecución [segundos]')\n",
    "    plt.xlabel('Cantidad de ciudades')\n",
    "    plt.legend(loc='upper left', prop={'size': 10})\n",
    "    if savefig:\n",
    "        # el nombre del archivo es: tsp_times.png\n",
    "        plt.savefig(image_base_path + filename + '_times' +'.png', bbox_inches='tight')\n",
    "    plt.show()\n",
    "    \n",
    "    print(costs)\n",
    "    \n",
    "    #plt.plot(x, space, label = '...')\n",
    "    #plt.title('Espacio consumido')\n",
    "    #plt.ylabel('Espacio utilizado [cantidad de conjuntos]')\n",
    "    #plt.xlabel('Cantidad de ciudades')\n",
    "    #plt.legend(loc='upper left', prop={'size': 10})\n",
    "    #if savefig:\n",
    "        # el nombre del archivo es: tsp_space.png\n",
    "    #    plt.savefig('images/' + filename + '_space' +'.png', bbox_inches='tight')\n",
    "    #plt.show()"
   ]
  },
  {
   "cell_type": "code",
   "execution_count": 4,
   "metadata": {
    "collapsed": false
   },
   "outputs": [
    {
     "name": "stdout",
     "output_type": "stream",
     "text": [
      "cities: 4\n",
      "cities: 6\n",
      "cities: 8\n",
      "cities: 10\n",
      "cities: 11\n",
      "cities: 12\n",
      "cities: 13\n",
      "cities: 14\n",
      "cities: 15\n",
      "cities: 16\n",
      "cities: 17\n",
      "cities: 18\n",
      "cities: 19\n",
      "cities: 20\n",
      "cities: 21\n"
     ]
    },
    {
     "data": {
      "image/png": "[encoded data removed]",
      "text/plain": [
       "<matplotlib.figure.Figure at 0x7fa6824ec898>"
      ]
     },
     "metadata": {},
     "output_type": "display_data"
    },
    {
     "name": "stdout",
     "output_type": "stream",
     "text": [
      "{4: {'tsp': 26, 'tsap': 31}, 6: {'tsp': 25, 'tsap': 38}, 8: {'tsp': 39, 'tsap': 39}, 10: {'tsp': 144, 'tsap': 145}, 11: {'tsp': 200, 'tsap': 325}, 12: {'tsp': 118, 'tsap': 165}, 13: {'tsp': 210, 'tsap': 235}, 14: {'tsp': 171, 'tsap': 429}, 15: {'tsp': 291, 'tsap': 366}, 16: {'tsp': 165, 'tsap': 271}, 17: {'tsp': 2085, 'tsap': 2352}, 18: {'tsp': 371, 'tsap': 1144}, 19: {'tsp': 819, 'tsap': 1945}, 20: {'tsp': 694, 'tsap': 1817}, 21: {'tsp': 2707, 'tsap': 3803}}\n"
     ]
    }
   ],
   "source": [
    "problems = []\n",
    "\n",
    "for file_name in test_files:\n",
    "    file_path = base_path + file_name\n",
    "    problems.append(tsp_parser.parse_tsp_file(file_path))\n",
    "\n",
    "plot_times(problems, savefig = True)"
   ]
  },
  {
   "cell_type": "code",
   "execution_count": null,
   "metadata": {
    "collapsed": true
   },
   "outputs": [],
   "source": []
  }
 ],
 "metadata": {
  "kernelspec": {
   "display_name": "Python 3",
   "language": "python",
   "name": "python3"
  },
  "language_info": {
   "codemirror_mode": {
    "name": "ipython",
    "version": 3
   },
   "file_extension": ".py",
   "mimetype": "text/x-python",
   "name": "python",
   "nbconvert_exporter": "python",
   "pygments_lexer": "ipython3",
   "version": "3.5.2"
  }
 },
 "nbformat": 4,
 "nbformat_minor": 1
}
