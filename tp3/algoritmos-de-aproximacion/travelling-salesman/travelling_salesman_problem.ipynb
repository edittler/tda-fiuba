{
 "cells": [
  {
   "cell_type": "markdown",
   "metadata": {
    "collapsed": true
   },
   "source": [
    "# Problema del viajante de comercio"
   ]
  },
  {
   "cell_type": "markdown",
   "metadata": {},
   "source": [
    "## Análisis de tiempos"
   ]
  },
  {
   "cell_type": "code",
   "execution_count": 5,
   "metadata": {
    "collapsed": false
   },
   "outputs": [],
   "source": [
    "%matplotlib inline\n",
    "import timeit\n",
    "import matplotlib.pyplot as plt\n",
    "#import numpy as np\n",
    "#from math import floor\n",
    "\n",
    "from functools import partial\n",
    "\n",
    "from tsp_data import tsp_data\n",
    "from tsp_parser import tsp_parser\n",
    "from travelling_salesman_path import travelling_salesman_path, travelling_salesman_aprox_path"
   ]
  },
  {
   "cell_type": "code",
   "execution_count": 12,
   "metadata": {
    "collapsed": true
   },
   "outputs": [],
   "source": [
    "base_path = \"test_files/\"\n",
    "test_files = [\"ex04.tsp\", \"ex06.tsp\", \"ex08.tsp\", \"ex10.tsp\"]#, \"ex11.tsp\", \"ex12.tsp\", \"ex13.tsp\", \"ex14.tsp\", \"p01.tsp\",\n",
    "              #\"ex16.tsp\", \"gr17.tsp\", \"ex18.tsp\", \"ex19.tsp\", \"ex20.tsp\", \"gr21.tsp\"]"
   ]
  },
  {
   "cell_type": "code",
   "execution_count": 13,
   "metadata": {
    "collapsed": false
   },
   "outputs": [],
   "source": [
    "def plot_times(problems, savefig=False):\n",
    "\n",
    "    x, times, times_aprox = [], [], []\n",
    "\n",
    "    tsp_cost, tsp_path = 0, []\n",
    "\n",
    "    def run_tsp_problem(problem):\n",
    "        tsp_cost, tsp_path = travelling_salesman_path(problem)\n",
    "\n",
    "    image_base_path = 'images/'\n",
    "    filename = 'tsp'\n",
    "\n",
    "    for problem in problems:\n",
    "        print(\"cities: \" + str(problem.dimension()))\n",
    "        x.append(problem.dimension())\n",
    "\n",
    "        timer_aprox = timeit.Timer(partial(travelling_salesman_aprox_path, problem.graph(True)))\n",
    "        timer = timeit.Timer(partial(travelling_salesman_path, problem))\n",
    "        \n",
    "        times_aprox.append(timer_aprox.timeit(1))\n",
    "        times.append(timer.timeit(1))\n",
    "\n",
    "    plt.plot(x, times_aprox, label = 'Aproximacion')\n",
    "    plt.plot(x, times, label = 'Bellman')\n",
    "\n",
    "    #plt.title('Tiempo de ejecución')\n",
    "    plt.ylabel('Tiempo de ejecución [segundos]')\n",
    "    plt.xlabel('Cantidad de ciudades')\n",
    "    #plt.legend(loc='upper left', prop={'size': 10})\n",
    "    if savefig:\n",
    "        # el nombre del archivo es: tsp_times.png\n",
    "        plt.savefig(image_base_path + filename + '_times' +'.png', bbox_inches='tight')\n",
    "    plt.show()\n",
    "    \n",
    "    #plt.plot(x, space, label = '...')\n",
    "    #plt.title('Espacio consumido')\n",
    "    #plt.ylabel('Espacio utilizado [cantidad de conjuntos]')\n",
    "    #plt.xlabel('Cantidad de ciudades')\n",
    "    #plt.legend(loc='upper left', prop={'size': 10})\n",
    "    #if savefig:\n",
    "        # el nombre del archivo es: tsp_space.png\n",
    "    #    plt.savefig('images/' + filename + '_space' +'.png', bbox_inches='tight')\n",
    "    #plt.show()"
   ]
  },
  {
   "cell_type": "code",
   "execution_count": 14,
   "metadata": {
    "collapsed": false
   },
   "outputs": [
    {
     "name": "stdout",
     "output_type": "stream",
     "text": [
      "cities: 4\n",
      "cities: 6\n",
      "cities: 8\n",
      "cities: 10\n"
     ]
    },
    {
     "data": {
      "image/png": "[encoded data removed]",
      "text/plain": [
       "<matplotlib.figure.Figure at 0x7fde0087cb00>"
      ]
     },
     "metadata": {},
     "output_type": "display_data"
    }
   ],
   "source": [
    "problems = []\n",
    "\n",
    "for file_name in test_files:\n",
    "    file_path = base_path + file_name\n",
    "    problems.append(tsp_parser.parse_tsp_file(file_path))\n",
    "\n",
    "plot_times(problems, savefig = True)"
   ]
  },
  {
   "cell_type": "code",
   "execution_count": null,
   "metadata": {
    "collapsed": true
   },
   "outputs": [],
   "source": []
  }
 ],
 "metadata": {
  "kernelspec": {
   "display_name": "Python 3",
   "language": "python",
   "name": "python3"
  },
  "language_info": {
   "codemirror_mode": {
    "name": "ipython",
    "version": 3
   },
   "file_extension": ".py",
   "mimetype": "text/x-python",
   "name": "python",
   "nbconvert_exporter": "python",
   "pygments_lexer": "ipython3",
   "version": "3.5.2"
  }
 },
 "nbformat": 4,
 "nbformat_minor": 1
}
